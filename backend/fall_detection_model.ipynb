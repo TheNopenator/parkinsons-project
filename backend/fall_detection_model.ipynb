{
 "cells": [
  {
   "cell_type": "code",
   "execution_count": null,
   "id": "11a09e6e-f10b-43c7-89b4-969756a482b1",
   "metadata": {},
   "outputs": [],
   "source": [
    "import pandas as pd\n",
    "import numpy as np\n",
    "from sklearn.model_selection import train_test_split\n",
    "from sklearn.preprocessing import StandardScaler\n",
    "from sklearn.ensemble import RandomForestClassifier\n",
    "from sklearn.metrics import accuracy_score\n",
    "import pickle"
   ]
  },
  {
   "cell_type": "code",
   "execution_count": 49,
   "id": "535b5a0b-c2b0-42c2-a317-76f233ed3db3",
   "metadata": {},
   "outputs": [],
   "source": [
    "# Load dataset\n",
    "train_df = pd.read_csv(\"Train.csv\")  # Replace with actual dataset path\n",
    "test_df = pd.read_csv(\"Test.csv\")"
   ]
  },
  {
   "cell_type": "code",
   "execution_count": 51,
   "id": "3047bd39-13ed-4110-9338-82de9b3ac6a2",
   "metadata": {},
   "outputs": [],
   "source": [
    "# Select only the required features\n",
    "features = ['acc_max', 'gyro_max', 'post_gyro_max','lin_max','post_lin_max']\n",
    "X = train_df[features]\n",
    "y = train_df['fall']  # Assuming 'label' is the target variable"
   ]
  },
  {
   "cell_type": "code",
   "execution_count": 53,
   "id": "be4bf857-527b-48d6-b467-c0f03bd8ad80",
   "metadata": {},
   "outputs": [
    {
     "data": {
      "text/html": [
       "<div>\n",
       "<style scoped>\n",
       "    .dataframe tbody tr th:only-of-type {\n",
       "        vertical-align: middle;\n",
       "    }\n",
       "\n",
       "    .dataframe tbody tr th {\n",
       "        vertical-align: top;\n",
       "    }\n",
       "\n",
       "    .dataframe thead th {\n",
       "        text-align: right;\n",
       "    }\n",
       "</style>\n",
       "<table border=\"1\" class=\"dataframe\">\n",
       "  <thead>\n",
       "    <tr style=\"text-align: right;\">\n",
       "      <th></th>\n",
       "      <th>acc_max</th>\n",
       "      <th>gyro_max</th>\n",
       "      <th>post_gyro_max</th>\n",
       "      <th>lin_max</th>\n",
       "      <th>post_lin_max</th>\n",
       "    </tr>\n",
       "  </thead>\n",
       "  <tbody>\n",
       "    <tr>\n",
       "      <th>0</th>\n",
       "      <td>26.039919</td>\n",
       "      <td>7.309797</td>\n",
       "      <td>7.086618</td>\n",
       "      <td>11.131080</td>\n",
       "      <td>10.790400</td>\n",
       "    </tr>\n",
       "    <tr>\n",
       "      <th>1</th>\n",
       "      <td>25.864500</td>\n",
       "      <td>6.511954</td>\n",
       "      <td>6.325522</td>\n",
       "      <td>7.945561</td>\n",
       "      <td>7.719352</td>\n",
       "    </tr>\n",
       "    <tr>\n",
       "      <th>2</th>\n",
       "      <td>27.524501</td>\n",
       "      <td>12.944099</td>\n",
       "      <td>12.888111</td>\n",
       "      <td>14.454818</td>\n",
       "      <td>14.368784</td>\n",
       "    </tr>\n",
       "    <tr>\n",
       "      <th>3</th>\n",
       "      <td>30.647705</td>\n",
       "      <td>11.694868</td>\n",
       "      <td>11.549971</td>\n",
       "      <td>15.228303</td>\n",
       "      <td>14.944151</td>\n",
       "    </tr>\n",
       "    <tr>\n",
       "      <th>4</th>\n",
       "      <td>26.373917</td>\n",
       "      <td>11.168424</td>\n",
       "      <td>11.057636</td>\n",
       "      <td>10.007396</td>\n",
       "      <td>9.753058</td>\n",
       "    </tr>\n",
       "    <tr>\n",
       "      <th>...</th>\n",
       "      <td>...</td>\n",
       "      <td>...</td>\n",
       "      <td>...</td>\n",
       "      <td>...</td>\n",
       "      <td>...</td>\n",
       "    </tr>\n",
       "    <tr>\n",
       "      <th>1423</th>\n",
       "      <td>9.997262</td>\n",
       "      <td>0.039835</td>\n",
       "      <td>0.001416</td>\n",
       "      <td>0.053063</td>\n",
       "      <td>0.002612</td>\n",
       "    </tr>\n",
       "    <tr>\n",
       "      <th>1424</th>\n",
       "      <td>25.917910</td>\n",
       "      <td>11.347815</td>\n",
       "      <td>3.385675</td>\n",
       "      <td>16.898301</td>\n",
       "      <td>1.724883</td>\n",
       "    </tr>\n",
       "    <tr>\n",
       "      <th>1425</th>\n",
       "      <td>12.098892</td>\n",
       "      <td>2.083724</td>\n",
       "      <td>1.860753</td>\n",
       "      <td>1.291914</td>\n",
       "      <td>0.861876</td>\n",
       "    </tr>\n",
       "    <tr>\n",
       "      <th>1426</th>\n",
       "      <td>20.079536</td>\n",
       "      <td>4.770095</td>\n",
       "      <td>0.243046</td>\n",
       "      <td>6.476275</td>\n",
       "      <td>0.995053</td>\n",
       "    </tr>\n",
       "    <tr>\n",
       "      <th>1427</th>\n",
       "      <td>9.956709</td>\n",
       "      <td>0.223359</td>\n",
       "      <td>-0.197760</td>\n",
       "      <td>0.091898</td>\n",
       "      <td>-0.020703</td>\n",
       "    </tr>\n",
       "  </tbody>\n",
       "</table>\n",
       "<p>1428 rows × 5 columns</p>\n",
       "</div>"
      ],
      "text/plain": [
       "        acc_max   gyro_max  post_gyro_max    lin_max  post_lin_max\n",
       "0     26.039919   7.309797       7.086618  11.131080     10.790400\n",
       "1     25.864500   6.511954       6.325522   7.945561      7.719352\n",
       "2     27.524501  12.944099      12.888111  14.454818     14.368784\n",
       "3     30.647705  11.694868      11.549971  15.228303     14.944151\n",
       "4     26.373917  11.168424      11.057636  10.007396      9.753058\n",
       "...         ...        ...            ...        ...           ...\n",
       "1423   9.997262   0.039835       0.001416   0.053063      0.002612\n",
       "1424  25.917910  11.347815       3.385675  16.898301      1.724883\n",
       "1425  12.098892   2.083724       1.860753   1.291914      0.861876\n",
       "1426  20.079536   4.770095       0.243046   6.476275      0.995053\n",
       "1427   9.956709   0.223359      -0.197760   0.091898     -0.020703\n",
       "\n",
       "[1428 rows x 5 columns]"
      ]
     },
     "execution_count": 53,
     "metadata": {},
     "output_type": "execute_result"
    }
   ],
   "source": [
    "X"
   ]
  },
  {
   "cell_type": "code",
   "execution_count": 57,
   "id": "aac7eb44-9f63-40b4-9f90-6da5277a85ee",
   "metadata": {},
   "outputs": [
    {
     "name": "stdout",
     "output_type": "stream",
     "text": [
      "Model Accuracy: 0.98\n"
     ]
    }
   ],
   "source": [
    "# Split data into training and testing sets\n",
    "X_train, X_test, y_train, y_test = train_test_split(X, y, test_size=0.2, random_state=42)\n",
    "\n",
    "# Standardize the features\n",
    "scaler = StandardScaler()\n",
    "X_train = scaler.fit_transform(X_train)\n",
    "X_test = scaler.transform(X_test)\n",
    "\n",
    "# Train the model\n",
    "model = RandomForestClassifier(n_estimators=100, random_state=42)\n",
    "model.fit(X_train, y_train)\n",
    "\n",
    "# Make predictions\n",
    "y_pred = model.predict(X_test)\n",
    "\n",
    "# Evaluate the model\n",
    "accuracy = accuracy_score(y_test, y_pred)\n",
    "print(f\"Model Accuracy: {accuracy:.2f}\")"
   ]
  },
  {
   "cell_type": "code",
   "execution_count": null,
   "id": "67763ac9-6463-41e1-9b20-060eb8a4d590",
   "metadata": {},
   "outputs": [],
   "source": [
    "with open(\"fall_detection_model.pkl\", \"wb\") as f:\n",
    "    pickle.dump(model, f)"
   ]
  },
  {
   "cell_type": "code",
   "execution_count": null,
   "id": "bad1b896-f43a-470f-b80b-b24d07c0f03c",
   "metadata": {},
   "outputs": [],
   "source": []
  }
 ],
 "metadata": {
  "kernelspec": {
   "display_name": "Python [conda env:base] *",
   "language": "python",
   "name": "conda-base-py"
  },
  "language_info": {
   "codemirror_mode": {
    "name": "ipython",
    "version": 3
   },
   "file_extension": ".py",
   "mimetype": "text/x-python",
   "name": "python",
   "nbconvert_exporter": "python",
   "pygments_lexer": "ipython3",
   "version": "3.12.7"
  }
 },
 "nbformat": 4,
 "nbformat_minor": 5
}
